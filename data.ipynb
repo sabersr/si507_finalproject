{
 "cells": [
  {
   "cell_type": "code",
   "execution_count": null,
   "id": "ee7d9bc1",
   "metadata": {},
   "outputs": [],
   "source": [
    "from bs4 import BeautifulSoup\n",
    "import requests\n",
    "\n",
    "# similar to our API requests, but now we just want all the text\n",
    "html = requests.get('https://en.wikipedia.org/wiki/Billboard_Year-End_Hot_100_singles_of_2021').text\n",
    "soup = BeautifulSoup(html, 'html.parser')\n",
    "print(soup.prettify())\n",
    "table = soup.find('table', {\"class\":'wikitable sortable'})"
   ]
  },
  {
   "cell_type": "code",
   "execution_count": null,
   "id": "80a84a53",
   "metadata": {},
   "outputs": [],
   "source": [
    "import pandas as pd"
   ]
  },
  {
   "cell_type": "markdown",
   "id": "2b1ed052",
   "metadata": {},
   "source": [
    "Wikipedia pages"
   ]
  },
  {
   "cell_type": "code",
   "execution_count": null,
   "id": "93e1c5c1",
   "metadata": {},
   "outputs": [],
   "source": [
    "years = [2021, 2020, 2019, 2018, 2017, 2016, 2015, 2014, 2013, 2012]\n",
    "\n",
    "billboard = pd.DataFrame()\n",
    "for year in years:\n",
    "    url = 'https://en.wikipedia.org/wiki/Billboard_Year-End_Hot_100_singles_of_' + str(year)\n",
    "    html = requests.get(url).text\n",
    "    soup = BeautifulSoup(html, 'html.parser')\n",
    "    #print(soup.prettify())\n",
    "    table = soup.find('table', {\"class\":'wikitable sortable'})\n",
    "    df = pd.read_html(str(table))\n",
    "    df = pd.concat(df)\n",
    "    df['Year'] = str(year)\n",
    "    billboard = pd.concat([billboard, df], ignore_index=True)\n",
    "    \n",
    "billboard\n",
    "billboard.to_csv(\"billboard.csv\")"
   ]
  },
  {
   "cell_type": "markdown",
   "id": "4115e8bc",
   "metadata": {},
   "source": [
    "Spotify API"
   ]
  },
  {
   "cell_type": "code",
   "execution_count": null,
   "id": "eb1f9d6a",
   "metadata": {},
   "outputs": [],
   "source": [
    "CLIENT_ID = \"914d599079cf414bb7441d9c09e8dd1d\"\n",
    "CLIENT_SECRET = \"c67d0eee9ade4d49a710acf1a7615a3d\"\n",
    "\n",
    "AUTH_URL = \"https://accounts.spotify.com/api/token\"\n",
    "auth_response = requests.post(AUTH_URL, {\n",
    "    'grant_type': 'client_credentials',\n",
    "    'client_id': CLIENT_ID,\n",
    "    'client_secret': CLIENT_SECRET,\n",
    "})\n",
    "\n",
    "#Convert response to JSON\n",
    "auth_response_data = auth_response.json()\n",
    "\n",
    "#Save the access token\n",
    "access_token = auth_response_data['access_token']\n",
    "\n",
    "#Need to pass access token into header to send properly formed GET request to API server\n",
    "headers = {\n",
    "    'Authorization': 'Bearer {token}'.format(token=access_token)\n",
    "}"
   ]
  },
  {
   "cell_type": "code",
   "execution_count": null,
   "id": "bbc8aea4",
   "metadata": {},
   "outputs": [],
   "source": [
    "name = []\n",
    "explicit = []\n",
    "images = []\n",
    "release_date = []\n",
    "preview_url = []"
   ]
  },
  {
   "cell_type": "code",
   "execution_count": null,
   "id": "d5fa7976",
   "metadata": {},
   "outputs": [],
   "source": [
    "for index in billboard.index:\n",
    "    title = billboard[\"Title\"][index]\n",
    "    artists = billboard[\"Artist(s)\"][index]\n",
    "    link = BASE_URL + 'search?q=' + title + '&type=track'\n",
    "    r = requests.get(link, headers=headers)\n",
    "    r = r.json()\n",
    "    name.append(r[\"tracks\"]['items'][0][\"name\"])\n",
    "    explicit.append(r[\"tracks\"]['items'][0][\"explicit\"])\n",
    "    images.append(r[\"tracks\"]['items'][0]['album'][\"images\"][0]['url'])\n",
    "    release_date.append(r[\"tracks\"]['items'][0]['album'][\"release_date\"])\n",
    "    preview_url.append(r[\"tracks\"]['items'][0][\"preview_url\"])"
   ]
  },
  {
   "cell_type": "code",
   "execution_count": null,
   "id": "a35a8616",
   "metadata": {},
   "outputs": [],
   "source": [
    "name.append(r[\"tracks\"]['items'][0][\"name\"])\n",
    "explicit.append(r[\"tracks\"]['items'][0][\"explicit\"])\n",
    "images.append(r[\"tracks\"]['items'][0]['album'][\"images\"][0]['url'])\n",
    "release_date.append(r[\"tracks\"]['items'][0]['album'][\"release_date\"])\n",
    "preview_url.append(r[\"tracks\"]['items'][0][\"preview_url\"])"
   ]
  },
  {
   "cell_type": "code",
   "execution_count": null,
   "id": "5a915fc5",
   "metadata": {},
   "outputs": [],
   "source": [
    "billboard.to_csv(\"bill_spo.csv\")"
   ]
  },
  {
   "cell_type": "markdown",
   "id": "e4351296",
   "metadata": {},
   "source": [
    "iTunes API"
   ]
  },
  {
   "cell_type": "code",
   "execution_count": null,
   "id": "b9cd5fa0",
   "metadata": {},
   "outputs": [],
   "source": [
    "name_a = []\n",
    "price = []\n",
    "genre = []\n",
    "trackTime = []\n",
    "trackView = []"
   ]
  },
  {
   "cell_type": "code",
   "execution_count": null,
   "id": "cb43cd80",
   "metadata": {},
   "outputs": [],
   "source": [
    "for index in billboard.index:\n",
    "    title = billboard[\"Title\"][index].replace('\"', '')\n",
    "    artists = billboard[\"Artist(s)\"][index]\n",
    "    link = \"https://itunes.apple.com/search?term=\" + re.sub('[^a-zA-Z0-9 \\n\\.]', '', title)\n",
    "    r = requests.get(link)\n",
    "    r = r.json()\n",
    "    name_a.append(r[\"results\"][0][\"trackName\"])\n",
    "    #price.append(r[\"results\"][0][\"trackPrice\"])\n",
    "    genre.append(r[\"results\"][0]['primaryGenreName'])\n",
    "    trackTime.append(r[\"results\"][0][\"trackTimeMillis\"])\n",
    "    trackView.append(r[\"results\"][0][\"trackViewUrl\"])\n",
    "    time.sleep(3)"
   ]
  },
  {
   "cell_type": "code",
   "execution_count": null,
   "id": "4ddfa720",
   "metadata": {},
   "outputs": [],
   "source": [
    "billboard['itunes_name'] = name_a\n",
    "billboard['genre'] = genre\n",
    "billboard['trackTime'] = trackTime\n",
    "billboard['trackView'] = trackView"
   ]
  },
  {
   "cell_type": "code",
   "execution_count": null,
   "id": "bdb4dddc",
   "metadata": {},
   "outputs": [],
   "source": [
    "billboard.to_csv(\"bill_spo_itunes.csv\")"
   ]
  }
 ],
 "metadata": {
  "kernelspec": {
   "display_name": "Python 3",
   "language": "python",
   "name": "python3"
  },
  "language_info": {
   "codemirror_mode": {
    "name": "ipython",
    "version": 3
   },
   "file_extension": ".py",
   "mimetype": "text/x-python",
   "name": "python",
   "nbconvert_exporter": "python",
   "pygments_lexer": "ipython3",
   "version": "3.8.8"
  }
 },
 "nbformat": 4,
 "nbformat_minor": 5
}
